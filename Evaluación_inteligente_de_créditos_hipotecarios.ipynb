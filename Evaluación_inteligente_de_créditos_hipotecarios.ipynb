{
  "nbformat": 4,
  "nbformat_minor": 0,
  "metadata": {
    "colab": {
      "provenance": [],
      "authorship_tag": "ABX9TyP+BuyBo97+3NQMpCh4HnRe",
      "include_colab_link": true
    },
    "kernelspec": {
      "name": "python3",
      "display_name": "Python 3"
    },
    "language_info": {
      "name": "python"
    }
  },
  "cells": [
    {
      "cell_type": "markdown",
      "metadata": {
        "id": "view-in-github",
        "colab_type": "text"
      },
      "source": [
        "<a href=\"https://colab.research.google.com/github/DavidUpegui/Home_Loan_approval_ML/blob/main/Evaluaci%C3%B3n_inteligente_de_cr%C3%A9ditos_hipotecarios.ipynb\" target=\"_parent\"><img src=\"https://colab.research.google.com/assets/colab-badge.svg\" alt=\"Open In Colab\"/></a>"
      ]
    },
    {
      "cell_type": "markdown",
      "source": [
        "#Sé mi aprobación hipotecaria: Evaluación inteligente de créditos hipotecarios"
      ],
      "metadata": {
        "id": "DoC1qO3HsBtv"
      }
    },
    {
      "cell_type": "markdown",
      "source": [
        "##Inicialización"
      ],
      "metadata": {
        "id": "C-Mm4KQs-XDQ"
      }
    },
    {
      "cell_type": "markdown",
      "source": [
        "##Limpieza de datos\n"
      ],
      "metadata": {
        "id": "UPM0GZUx-ZFW"
      }
    },
    {
      "cell_type": "markdown",
      "source": [
        "###Eliminación de columnas innecesarias"
      ],
      "metadata": {
        "id": "SZ6QUfd0-bl3"
      }
    },
    {
      "cell_type": "markdown",
      "source": [
        "###Imputación de fatos faltantes"
      ],
      "metadata": {
        "id": "lhCHZXRV-eO9"
      }
    },
    {
      "cell_type": "markdown",
      "source": [
        "###Codificación de columnas categóricas"
      ],
      "metadata": {
        "id": "WtJpJ86P-grn"
      }
    },
    {
      "cell_type": "code",
      "execution_count": null,
      "metadata": {
        "id": "TSuqLzp-r8up"
      },
      "outputs": [],
      "source": []
    }
  ]
}